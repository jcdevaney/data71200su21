{
 "cells": [
  {
   "cell_type": "code",
   "execution_count": 1,
   "metadata": {},
   "outputs": [],
   "source": [
    "import numpy as np\n",
    "import pandas as pd\n",
    "from pandas.plotting import scatter_matrix"
   ]
  },
  {
   "cell_type": "code",
   "execution_count": 2,
   "metadata": {},
   "outputs": [],
   "source": [
    "# Import the California Housing Data from used in the HOML book, Chapter 2\n",
    "\n",
    "import os\n",
    "import tarfile\n",
    "from six.moves import urllib\n",
    "\n",
    "DOWNLOAD_ROOT = \"https://raw.githubusercontent.com/ageron/handson-ml/master/\"\n",
    "HOUSING_PATH = os.path.join(\"datasets\", \"housing\")\n",
    "HOUSING_URL = DOWNLOAD_ROOT + \"datasets/housing/housing.tgz\"\n",
    "\n",
    "def fetch_housing_data(housing_url=HOUSING_URL, housing_path=HOUSING_PATH):\n",
    "    os.makedirs(housing_path, exist_ok=True)\n",
    "    tgz_path = os.path.join(housing_path, \"housing.tgz\")\n",
    "    urllib.request.urlretrieve(housing_url, tgz_path)\n",
    "    housing_tgz = tarfile.open(tgz_path)\n",
    "    housing_tgz.extractall(path=housing_path)\n",
    "    housing_tgz.close()"
   ]
  },
  {
   "cell_type": "code",
   "execution_count": 3,
   "metadata": {},
   "outputs": [],
   "source": [
    "fetch_housing_data()\n",
    "\n",
    "def load_housing_data(housing_path=HOUSING_PATH):\n",
    "    csv_path = os.path.join(housing_path, \"housing.csv\")\n",
    "    return pd.read_csv(csv_path)"
   ]
  },
  {
   "cell_type": "code",
   "execution_count": 4,
   "metadata": {},
   "outputs": [],
   "source": [
    "housing = load_housing_data()"
   ]
  },
  {
   "cell_type": "code",
   "execution_count": 5,
   "metadata": {},
   "outputs": [
    {
     "data": {
      "text/html": [
       "<div>\n",
       "<style scoped>\n",
       "    .dataframe tbody tr th:only-of-type {\n",
       "        vertical-align: middle;\n",
       "    }\n",
       "\n",
       "    .dataframe tbody tr th {\n",
       "        vertical-align: top;\n",
       "    }\n",
       "\n",
       "    .dataframe thead th {\n",
       "        text-align: right;\n",
       "    }\n",
       "</style>\n",
       "<table border=\"1\" class=\"dataframe\">\n",
       "  <thead>\n",
       "    <tr style=\"text-align: right;\">\n",
       "      <th></th>\n",
       "      <th>longitude</th>\n",
       "      <th>latitude</th>\n",
       "      <th>housing_median_age</th>\n",
       "      <th>total_rooms</th>\n",
       "      <th>total_bedrooms</th>\n",
       "      <th>population</th>\n",
       "      <th>households</th>\n",
       "      <th>median_income</th>\n",
       "      <th>median_house_value</th>\n",
       "      <th>ocean_proximity</th>\n",
       "    </tr>\n",
       "  </thead>\n",
       "  <tbody>\n",
       "    <tr>\n",
       "      <th>0</th>\n",
       "      <td>-122.23</td>\n",
       "      <td>37.88</td>\n",
       "      <td>41.0</td>\n",
       "      <td>880.0</td>\n",
       "      <td>129.0</td>\n",
       "      <td>322.0</td>\n",
       "      <td>126.0</td>\n",
       "      <td>8.3252</td>\n",
       "      <td>452600.0</td>\n",
       "      <td>NEAR BAY</td>\n",
       "    </tr>\n",
       "    <tr>\n",
       "      <th>1</th>\n",
       "      <td>-122.22</td>\n",
       "      <td>37.86</td>\n",
       "      <td>21.0</td>\n",
       "      <td>7099.0</td>\n",
       "      <td>1106.0</td>\n",
       "      <td>2401.0</td>\n",
       "      <td>1138.0</td>\n",
       "      <td>8.3014</td>\n",
       "      <td>358500.0</td>\n",
       "      <td>NEAR BAY</td>\n",
       "    </tr>\n",
       "    <tr>\n",
       "      <th>2</th>\n",
       "      <td>-122.24</td>\n",
       "      <td>37.85</td>\n",
       "      <td>52.0</td>\n",
       "      <td>1467.0</td>\n",
       "      <td>190.0</td>\n",
       "      <td>496.0</td>\n",
       "      <td>177.0</td>\n",
       "      <td>7.2574</td>\n",
       "      <td>352100.0</td>\n",
       "      <td>NEAR BAY</td>\n",
       "    </tr>\n",
       "    <tr>\n",
       "      <th>3</th>\n",
       "      <td>-122.25</td>\n",
       "      <td>37.85</td>\n",
       "      <td>52.0</td>\n",
       "      <td>1274.0</td>\n",
       "      <td>235.0</td>\n",
       "      <td>558.0</td>\n",
       "      <td>219.0</td>\n",
       "      <td>5.6431</td>\n",
       "      <td>341300.0</td>\n",
       "      <td>NEAR BAY</td>\n",
       "    </tr>\n",
       "    <tr>\n",
       "      <th>4</th>\n",
       "      <td>-122.25</td>\n",
       "      <td>37.85</td>\n",
       "      <td>52.0</td>\n",
       "      <td>1627.0</td>\n",
       "      <td>280.0</td>\n",
       "      <td>565.0</td>\n",
       "      <td>259.0</td>\n",
       "      <td>3.8462</td>\n",
       "      <td>342200.0</td>\n",
       "      <td>NEAR BAY</td>\n",
       "    </tr>\n",
       "  </tbody>\n",
       "</table>\n",
       "</div>"
      ],
      "text/plain": [
       "   longitude  latitude  housing_median_age  total_rooms  total_bedrooms  \\\n",
       "0    -122.23     37.88                41.0        880.0           129.0   \n",
       "1    -122.22     37.86                21.0       7099.0          1106.0   \n",
       "2    -122.24     37.85                52.0       1467.0           190.0   \n",
       "3    -122.25     37.85                52.0       1274.0           235.0   \n",
       "4    -122.25     37.85                52.0       1627.0           280.0   \n",
       "\n",
       "   population  households  median_income  median_house_value ocean_proximity  \n",
       "0       322.0       126.0         8.3252            452600.0        NEAR BAY  \n",
       "1      2401.0      1138.0         8.3014            358500.0        NEAR BAY  \n",
       "2       496.0       177.0         7.2574            352100.0        NEAR BAY  \n",
       "3       558.0       219.0         5.6431            341300.0        NEAR BAY  \n",
       "4       565.0       259.0         3.8462            342200.0        NEAR BAY  "
      ]
     },
     "execution_count": 5,
     "metadata": {},
     "output_type": "execute_result"
    }
   ],
   "source": [
    "housing.head()"
   ]
  },
  {
   "cell_type": "code",
   "execution_count": 6,
   "metadata": {},
   "outputs": [
    {
     "name": "stdout",
     "output_type": "stream",
     "text": [
      "0        452600.0\n",
      "1        358500.0\n",
      "2        352100.0\n",
      "3        341300.0\n",
      "4        342200.0\n",
      "5        269700.0\n",
      "6        299200.0\n",
      "7        241400.0\n",
      "8        226700.0\n",
      "9        261100.0\n",
      "10       281500.0\n",
      "11       241800.0\n",
      "12       213500.0\n",
      "13       191300.0\n",
      "14       159200.0\n",
      "15       140000.0\n",
      "16       152500.0\n",
      "17       155500.0\n",
      "18       158700.0\n",
      "19       162900.0\n",
      "20       147500.0\n",
      "21       159800.0\n",
      "22       113900.0\n",
      "23        99700.0\n",
      "24       132600.0\n",
      "25       107500.0\n",
      "26        93800.0\n",
      "27       105500.0\n",
      "28       108900.0\n",
      "29       132000.0\n",
      "           ...   \n",
      "20610     45500.0\n",
      "20611     47000.0\n",
      "20612     48300.0\n",
      "20613     53400.0\n",
      "20614     58000.0\n",
      "20615     57500.0\n",
      "20616     55100.0\n",
      "20617     70800.0\n",
      "20618     63400.0\n",
      "20619     99100.0\n",
      "20620    100000.0\n",
      "20621     77500.0\n",
      "20622     67000.0\n",
      "20623     65500.0\n",
      "20624     87200.0\n",
      "20625     72000.0\n",
      "20626     93800.0\n",
      "20627    162500.0\n",
      "20628     92400.0\n",
      "20629    108300.0\n",
      "20630    112000.0\n",
      "20631    107200.0\n",
      "20632    115600.0\n",
      "20633     98300.0\n",
      "20634    116800.0\n",
      "20635     78100.0\n",
      "20636     77100.0\n",
      "20637     92300.0\n",
      "20638     84700.0\n",
      "20639     89400.0\n",
      "Name: median_house_value, Length: 20640, dtype: float64\n"
     ]
    }
   ],
   "source": [
    "y = housing['median_house_value']\n",
    "print(y)"
   ]
  },
  {
   "cell_type": "code",
   "execution_count": 7,
   "metadata": {},
   "outputs": [
    {
     "name": "stdout",
     "output_type": "stream",
     "text": [
      "       longitude  latitude  housing_median_age  total_rooms  population  \\\n",
      "0        -122.23     37.88                41.0        880.0       322.0   \n",
      "1        -122.22     37.86                21.0       7099.0      2401.0   \n",
      "2        -122.24     37.85                52.0       1467.0       496.0   \n",
      "3        -122.25     37.85                52.0       1274.0       558.0   \n",
      "4        -122.25     37.85                52.0       1627.0       565.0   \n",
      "5        -122.25     37.85                52.0        919.0       413.0   \n",
      "6        -122.25     37.84                52.0       2535.0      1094.0   \n",
      "7        -122.25     37.84                52.0       3104.0      1157.0   \n",
      "8        -122.26     37.84                42.0       2555.0      1206.0   \n",
      "9        -122.25     37.84                52.0       3549.0      1551.0   \n",
      "10       -122.26     37.85                52.0       2202.0       910.0   \n",
      "11       -122.26     37.85                52.0       3503.0      1504.0   \n",
      "12       -122.26     37.85                52.0       2491.0      1098.0   \n",
      "13       -122.26     37.84                52.0        696.0       345.0   \n",
      "14       -122.26     37.85                52.0       2643.0      1212.0   \n",
      "15       -122.26     37.85                50.0       1120.0       697.0   \n",
      "16       -122.27     37.85                52.0       1966.0       793.0   \n",
      "17       -122.27     37.85                52.0       1228.0       648.0   \n",
      "18       -122.26     37.84                50.0       2239.0       990.0   \n",
      "19       -122.27     37.84                52.0       1503.0       690.0   \n",
      "20       -122.27     37.85                40.0        751.0       409.0   \n",
      "21       -122.27     37.85                42.0       1639.0       929.0   \n",
      "22       -122.27     37.84                52.0       2436.0      1015.0   \n",
      "23       -122.27     37.84                52.0       1688.0       853.0   \n",
      "24       -122.27     37.84                52.0       2224.0      1006.0   \n",
      "25       -122.28     37.85                41.0        535.0       317.0   \n",
      "26       -122.28     37.85                49.0       1130.0       607.0   \n",
      "27       -122.28     37.85                52.0       1898.0      1102.0   \n",
      "28       -122.28     37.84                50.0       2082.0      1131.0   \n",
      "29       -122.28     37.84                52.0        729.0       395.0   \n",
      "...          ...       ...                 ...          ...         ...   \n",
      "20610    -121.56     39.10                28.0       2130.0      1195.0   \n",
      "20611    -121.55     39.10                27.0       1783.0      1163.0   \n",
      "20612    -121.56     39.08                26.0       1377.0       761.0   \n",
      "20613    -121.55     39.09                31.0       1728.0      1167.0   \n",
      "20614    -121.54     39.08                26.0       2276.0      1455.0   \n",
      "20615    -121.54     39.08                23.0       1076.0       724.0   \n",
      "20616    -121.53     39.08                15.0       1810.0      1157.0   \n",
      "20617    -121.53     39.06                20.0        561.0       308.0   \n",
      "20618    -121.55     39.06                25.0       1332.0       726.0   \n",
      "20619    -121.56     39.01                22.0       1891.0      1023.0   \n",
      "20620    -121.48     39.05                40.0        198.0       151.0   \n",
      "20621    -121.47     39.01                37.0       1244.0       484.0   \n",
      "20622    -121.44     39.00                20.0        755.0       457.0   \n",
      "20623    -121.37     39.03                32.0       1158.0       598.0   \n",
      "20624    -121.41     39.04                16.0       1698.0       731.0   \n",
      "20625    -121.52     39.12                37.0        102.0        29.0   \n",
      "20626    -121.43     39.18                36.0       1124.0       504.0   \n",
      "20627    -121.32     39.13                 5.0        358.0       169.0   \n",
      "20628    -121.48     39.10                19.0       2043.0      1018.0   \n",
      "20629    -121.39     39.12                28.0      10035.0      6912.0   \n",
      "20630    -121.32     39.29                11.0       2640.0      1257.0   \n",
      "20631    -121.40     39.33                15.0       2655.0      1200.0   \n",
      "20632    -121.45     39.26                15.0       2319.0      1047.0   \n",
      "20633    -121.53     39.19                27.0       2080.0      1082.0   \n",
      "20634    -121.56     39.27                28.0       2332.0      1041.0   \n",
      "20635    -121.09     39.48                25.0       1665.0       845.0   \n",
      "20636    -121.21     39.49                18.0        697.0       356.0   \n",
      "20637    -121.22     39.43                17.0       2254.0      1007.0   \n",
      "20638    -121.32     39.43                18.0       1860.0       741.0   \n",
      "20639    -121.24     39.37                16.0       2785.0      1387.0   \n",
      "\n",
      "       households  median_income  \n",
      "0           126.0         8.3252  \n",
      "1          1138.0         8.3014  \n",
      "2           177.0         7.2574  \n",
      "3           219.0         5.6431  \n",
      "4           259.0         3.8462  \n",
      "5           193.0         4.0368  \n",
      "6           514.0         3.6591  \n",
      "7           647.0         3.1200  \n",
      "8           595.0         2.0804  \n",
      "9           714.0         3.6912  \n",
      "10          402.0         3.2031  \n",
      "11          734.0         3.2705  \n",
      "12          468.0         3.0750  \n",
      "13          174.0         2.6736  \n",
      "14          620.0         1.9167  \n",
      "15          264.0         2.1250  \n",
      "16          331.0         2.7750  \n",
      "17          303.0         2.1202  \n",
      "18          419.0         1.9911  \n",
      "19          275.0         2.6033  \n",
      "20          166.0         1.3578  \n",
      "21          366.0         1.7135  \n",
      "22          478.0         1.7250  \n",
      "23          325.0         2.1806  \n",
      "24          422.0         2.6000  \n",
      "25          119.0         2.4038  \n",
      "26          239.0         2.4597  \n",
      "27          397.0         1.8080  \n",
      "28          473.0         1.6424  \n",
      "29          155.0         1.6875  \n",
      "...           ...            ...  \n",
      "20610       439.0         1.3631  \n",
      "20611       409.0         1.2857  \n",
      "20612       267.0         1.4934  \n",
      "20613       384.0         1.4958  \n",
      "20614       474.0         2.4695  \n",
      "20615       197.0         2.3598  \n",
      "20616       375.0         2.0469  \n",
      "20617       114.0         3.3021  \n",
      "20618       226.0         2.2500  \n",
      "20619       296.0         2.7303  \n",
      "20620        48.0         4.5625  \n",
      "20621       157.0         2.3661  \n",
      "20622       157.0         2.4167  \n",
      "20623       227.0         2.8235  \n",
      "20624       291.0         3.0739  \n",
      "20625        14.0         4.1250  \n",
      "20626       171.0         2.1667  \n",
      "20627        59.0         3.0000  \n",
      "20628       390.0         2.5952  \n",
      "20629      1818.0         2.0943  \n",
      "20630       445.0         3.5673  \n",
      "20631       432.0         3.5179  \n",
      "20632       385.0         3.1250  \n",
      "20633       382.0         2.5495  \n",
      "20634       344.0         3.7125  \n",
      "20635       330.0         1.5603  \n",
      "20636       114.0         2.5568  \n",
      "20637       433.0         1.7000  \n",
      "20638       349.0         1.8672  \n",
      "20639       530.0         2.3886  \n",
      "\n",
      "[20640 rows x 7 columns]\n"
     ]
    }
   ],
   "source": [
    "X = housing.drop(['median_house_value','ocean_proximity','total_bedrooms'],axis=1)\n",
    "print(X)"
   ]
  },
  {
   "cell_type": "code",
   "execution_count": 8,
   "metadata": {},
   "outputs": [],
   "source": [
    "from sklearn.model_selection import train_test_split\n",
    "\n",
    "# split data and labels into a training and a test set\n",
    "X_train, X_test, y_train, y_test = train_test_split(X, y, random_state=0)"
   ]
  },
  {
   "cell_type": "code",
   "execution_count": 9,
   "metadata": {},
   "outputs": [],
   "source": [
    "from sklearn.linear_model import LinearRegression\n",
    "\n",
    "# instantiate a model and fit it to the training set\n",
    "linreg = LinearRegression().fit(X_train, y_train)"
   ]
  },
  {
   "cell_type": "code",
   "execution_count": 10,
   "metadata": {},
   "outputs": [
    {
     "name": "stdout",
     "output_type": "stream",
     "text": [
      "Test set score: 0.62\n"
     ]
    }
   ],
   "source": [
    "# evaluate the model on the test set\n",
    "print(\"Test set score: {:.2f}\".format(linreg.score(X_test, y_test)))"
   ]
  },
  {
   "cell_type": "markdown",
   "metadata": {},
   "source": [
    "# Dealing with missing value"
   ]
  },
  {
   "cell_type": "code",
   "execution_count": 11,
   "metadata": {},
   "outputs": [],
   "source": [
    "X = housing.drop(['median_house_value','ocean_proximity'],axis=1)"
   ]
  },
  {
   "cell_type": "code",
   "execution_count": 12,
   "metadata": {},
   "outputs": [],
   "source": [
    "from sklearn.impute import SimpleImputer\n",
    "imp_mean = SimpleImputer(missing_values=np.nan, strategy='mean')\n",
    "imp_mean.fit(X)\n",
    "SimpleImputer()\n",
    "X = imp_mean.transform(X)"
   ]
  },
  {
   "cell_type": "code",
   "execution_count": 13,
   "metadata": {},
   "outputs": [],
   "source": [
    "# split data and labels into a training and a test set\n",
    "X_train, X_test, y_train, y_test = train_test_split(X, y, random_state=0)"
   ]
  },
  {
   "cell_type": "code",
   "execution_count": 14,
   "metadata": {},
   "outputs": [],
   "source": [
    "# instantiate a model and fit it to the training set\n",
    "linreg = LinearRegression().fit(X_train, y_train)"
   ]
  },
  {
   "cell_type": "code",
   "execution_count": 15,
   "metadata": {},
   "outputs": [
    {
     "name": "stdout",
     "output_type": "stream",
     "text": [
      "Test set score: 0.63\n"
     ]
    }
   ],
   "source": [
    "# evaluate the model on the test set\n",
    "print(\"Test set score: {:.2f}\".format(linreg.score(X_test, y_test)))"
   ]
  },
  {
   "cell_type": "code",
   "execution_count": null,
   "metadata": {},
   "outputs": [],
   "source": []
  }
 ],
 "metadata": {
  "kernelspec": {
   "display_name": "Python 3",
   "language": "python",
   "name": "python3"
  },
  "language_info": {
   "codemirror_mode": {
    "name": "ipython",
    "version": 3
   },
   "file_extension": ".py",
   "mimetype": "text/x-python",
   "name": "python",
   "nbconvert_exporter": "python",
   "pygments_lexer": "ipython3",
   "version": "3.6.4"
  }
 },
 "nbformat": 4,
 "nbformat_minor": 2
}

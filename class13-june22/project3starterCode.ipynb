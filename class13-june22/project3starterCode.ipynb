{
 "cells": [
  {
   "cell_type": "code",
   "execution_count": 1,
   "metadata": {},
   "outputs": [],
   "source": [
    "%matplotlib inline\n",
    "import matplotlib.pyplot as plt\n",
    "import numpy as np\n",
    "import pandas as pd\n",
    "import mglearn\n",
    "\n",
    "import warnings\n",
    "warnings.filterwarnings('ignore')"
   ]
  },
  {
   "cell_type": "markdown",
   "metadata": {},
   "source": [
    "# Dimensionality Reduction with PCA"
   ]
  },
  {
   "cell_type": "code",
   "execution_count": 2,
   "metadata": {},
   "outputs": [],
   "source": [
    "from sklearn.datasets import load_wine\n",
    "wine = load_wine()\n",
    "X = wine.data"
   ]
  },
  {
   "cell_type": "code",
   "execution_count": 3,
   "metadata": {},
   "outputs": [],
   "source": [
    "# scale data to have the same variance\n",
    "from sklearn.preprocessing import StandardScaler\n",
    "\n",
    "scaler = StandardScaler()\n",
    "scaler.fit(X)\n",
    "X_scaled = scaler.transform(wine.data)"
   ]
  },
  {
   "cell_type": "code",
   "execution_count": 4,
   "metadata": {},
   "outputs": [
    {
     "name": "stdout",
     "output_type": "stream",
     "text": [
      "--------------------Explained variance ratio--------------------\n",
      "[0.36198848 0.1920749  0.11123631 0.0706903  0.06563294 0.04935823\n",
      " 0.04238679 0.02680749 0.02222153 0.01930019 0.01736836 0.01298233\n",
      " 0.00795215]\n"
     ]
    }
   ],
   "source": [
    "from sklearn.decomposition import PCA\n",
    "# keep all the principal components of the data\n",
    "pca3 = PCA()\n",
    "# fit PCA model to the scaled data\n",
    "pca3.fit(X_scaled)\n",
    "\n",
    "print('-'*20 + 'Explained variance ratio' + '-'*20)\n",
    "print(pca3.explained_variance_ratio_)"
   ]
  },
  {
   "cell_type": "code",
   "execution_count": 5,
   "metadata": {},
   "outputs": [
    {
     "name": "stdout",
     "output_type": "stream",
     "text": [
      "--------------------Explained variance ratio--------------------\n",
      "[0.36198848 0.1920749  0.11123631 0.0706903  0.06563294 0.04935823\n",
      " 0.04238679 0.02680749 0.02222153 0.01930019]\n"
     ]
    }
   ],
   "source": [
    "# keep the first two principal components of the data\n",
    "pca4 = PCA(n_components=0.95)\n",
    "# fit PCA model to data\n",
    "pca4.fit(X_scaled)\n",
    "\n",
    "print('-'*20 + 'Explained variance ratio' + '-'*20)\n",
    "print(pca4.explained_variance_ratio_)"
   ]
  },
  {
   "cell_type": "markdown",
   "metadata": {},
   "source": [
    "## PCA as a pre-processing step for classification"
   ]
  },
  {
   "cell_type": "code",
   "execution_count": 6,
   "metadata": {},
   "outputs": [
    {
     "name": "stdout",
     "output_type": "stream",
     "text": [
      "Accuracy on training set: 1.00\n",
      "Accuracy on test set: 0.94\n"
     ]
    }
   ],
   "source": [
    "from sklearn.linear_model import LogisticRegression\n",
    "from sklearn.tree import DecisionTreeClassifier\n",
    "from sklearn.model_selection import StratifiedShuffleSplit\n",
    "\n",
    "split = StratifiedShuffleSplit(n_splits=1, test_size=0.2, random_state=42)\n",
    "\n",
    "for train_index, test_index in split.split(X_scaled, wine.target):\n",
    "    X_train = X_scaled[train_index]\n",
    "    X_test = X_scaled[test_index]\n",
    "    y_train = wine.target[train_index]\n",
    "    y_test = wine.target[test_index]\n",
    "    \n",
    "model = DecisionTreeClassifier(random_state=0).fit(X_train, y_train)\n",
    "\n",
    "print(\"Accuracy on training set: {:.2f}\".format(model.score(X_train, y_train)))\n",
    "print(\"Accuracy on test set: {:.2f}\".format(model.score(X_test, y_test)))"
   ]
  },
  {
   "cell_type": "code",
   "execution_count": 7,
   "metadata": {},
   "outputs": [
    {
     "name": "stdout",
     "output_type": "stream",
     "text": [
      "Accuracy on training set: 1.00\n",
      "Accuracy on test set: 0.92\n"
     ]
    }
   ],
   "source": [
    "# transform data onto the first ten principal components\n",
    "X2_pca4 = pca4.transform(X_scaled)\n",
    "\n",
    "for train_index, test_index in split.split(X_scaled, wine.target):\n",
    "    X2_train = X2_pca4[train_index]\n",
    "    X2_test = X2_pca4[test_index]\n",
    "    y2_train = wine.target[train_index]\n",
    "    y2_test = wine.target[test_index]\n",
    "    \n",
    "model = DecisionTreeClassifier(random_state=0).fit(X2_train, y2_train)\n",
    "\n",
    "print(\"Accuracy on training set: {:.2f}\".format(model.score(X2_train, y2_train)))\n",
    "print(\"Accuracy on test set: {:.2f}\".format(model.score(X2_test, y2_test)))"
   ]
  },
  {
   "cell_type": "code",
   "execution_count": null,
   "metadata": {},
   "outputs": [],
   "source": []
  }
 ],
 "metadata": {
  "kernelspec": {
   "display_name": "Python 3",
   "language": "python",
   "name": "python3"
  },
  "language_info": {
   "codemirror_mode": {
    "name": "ipython",
    "version": 3
   },
   "file_extension": ".py",
   "mimetype": "text/x-python",
   "name": "python",
   "nbconvert_exporter": "python",
   "pygments_lexer": "ipython3",
   "version": "3.6.4"
  }
 },
 "nbformat": 4,
 "nbformat_minor": 2
}
